{
 "cells": [
  {
   "cell_type": "code",
   "execution_count": null,
   "metadata": {},
   "outputs": [
    {
     "name": "stdout",
     "output_type": "stream",
     "text": [
      "0 hello world\n",
      "1 hello world\n",
      "2 hello world\n",
      "3 hello world\n",
      "4 hello world\n",
      "5 hello world\n",
      "6 hello world\n",
      "7 hello world\n",
      "8 hello world\n",
      "9 hello world\n"
     ]
    }
   ],
   "source": [
    "for i in range(0,10) : \n",
    "    print(i,'hello world')"
   ]
  },
  {
   "cell_type": "code",
   "execution_count": 4,
   "metadata": {},
   "outputs": [
    {
     "name": "stdout",
     "output_type": "stream",
     "text": [
      "a\n",
      "b\n",
      "c\n",
      "d\n",
      "e\n"
     ]
    }
   ],
   "source": [
    "my_list = ['a','b','c','d','e']\n",
    "\n",
    "for i in my_list : \n",
    "    print(i)"
   ]
  },
  {
   "cell_type": "code",
   "execution_count": null,
   "metadata": {},
   "outputs": [
    {
     "name": "stdout",
     "output_type": "stream",
     "text": [
      "a\n",
      "b\n",
      "c\n",
      "d\n",
      "e\n"
     ]
    }
   ],
   "source": [
    "my_list = ['a','b','c','d','e']\n",
    "\n",
    "for i in my_list : \n",
    "    print(i)"
   ]
  },
  {
   "cell_type": "code",
   "execution_count": null,
   "metadata": {},
   "outputs": [
    {
     "name": "stdout",
     "output_type": "stream",
     "text": [
      "Hello\n",
      "지훈\n",
      "-------\n",
      "Hello\n",
      "종호\n",
      "-------\n",
      "Hello\n",
      "우진\n",
      "-------\n",
      "Hello\n",
      "은화\n",
      "-------\n",
      "Hello\n",
      "민우\n",
      "-------\n"
     ]
    }
   ],
   "source": [
    "my_list = ['지훈','종호','우진','은화','민우']\n",
    "for i in my_list : \n",
    "    print('Hello')\n",
    "    print(i)\n",
    "    print('-------')\n"
   ]
  },
  {
   "cell_type": "code",
   "execution_count": null,
   "metadata": {},
   "outputs": [
    {
     "name": "stdout",
     "output_type": "stream",
     "text": [
      "오늘 1번 째로 회사에 출근한 직원은 지훈 입니다.\n",
      "오늘 2번 째로 회사에 출근한 직원은 종호 입니다.\n",
      "오늘 3번 째로 회사에 출근한 직원은 우진 입니다.\n",
      "오늘 4번 째로 회사에 출근한 직원은 은화 입니다.\n",
      "오늘 5번 째로 회사에 출근한 직원은 민우 입니다.\n"
     ]
    }
   ],
   "source": [
    "my_list = ['지훈','종호','우진','은화','민우']\n",
    "for n, i in enumerate(my_list, start=1) : \n",
    "    print('오늘 {}번 째로 회사에 출근한 직원은 {} 입니다.'.format(n,i))"
   ]
  },
  {
   "cell_type": "code",
   "execution_count": null,
   "metadata": {},
   "outputs": [
    {
     "name": "stdout",
     "output_type": "stream",
     "text": [
      "1 홀수입니다.\n",
      "2 짝수입니다.\n",
      "3 홀수입니다.\n",
      "4 짝수입니다.\n",
      "5 홀수입니다.\n",
      "6 짝수입니다.\n",
      "7 홀수입니다.\n",
      "8 짝수입니다.\n",
      "9 홀수입니다.\n",
      "10 짝수입니다.\n"
     ]
    }
   ],
   "source": [
    "for i in range(1,11) : \n",
    "    if i % 2 == 0 :  \n",
    "        print(i,\"짝수입니다.\") \n",
    "    elif i % 2 == 1 :\n",
    "        print(i,'홀수입니다.')"
   ]
  },
  {
   "cell_type": "code",
   "execution_count": null,
   "metadata": {},
   "outputs": [
    {
     "name": "stdout",
     "output_type": "stream",
     "text": [
      "2 * 1 = 2\n",
      "2 * 2 = 4\n",
      "2 * 3 = 6\n",
      "2 * 4 = 8\n",
      "2 * 5 = 10\n",
      "2 * 6 = 12\n",
      "2 * 7 = 14\n",
      "2 * 8 = 16\n",
      "2 * 9 = 18\n",
      "3 * 1 = 3\n",
      "3 * 2 = 6\n",
      "3 * 3 = 9\n",
      "3 * 4 = 12\n",
      "3 * 5 = 15\n",
      "3 * 6 = 18\n",
      "3 * 7 = 21\n",
      "3 * 8 = 24\n",
      "3 * 9 = 27\n",
      "4 * 1 = 4\n",
      "4 * 2 = 8\n",
      "4 * 3 = 12\n",
      "4 * 4 = 16\n",
      "4 * 5 = 20\n",
      "4 * 6 = 24\n",
      "4 * 7 = 28\n",
      "4 * 8 = 32\n",
      "4 * 9 = 36\n",
      "5 * 1 = 5\n",
      "5 * 2 = 10\n",
      "5 * 3 = 15\n",
      "5 * 4 = 20\n",
      "5 * 5 = 25\n",
      "5 * 6 = 30\n",
      "5 * 7 = 35\n",
      "5 * 8 = 40\n",
      "5 * 9 = 45\n",
      "6 * 1 = 6\n",
      "6 * 2 = 12\n",
      "6 * 3 = 18\n",
      "6 * 4 = 24\n",
      "6 * 5 = 30\n",
      "6 * 6 = 36\n",
      "6 * 7 = 42\n",
      "6 * 8 = 48\n",
      "6 * 9 = 54\n",
      "7 * 1 = 7\n",
      "7 * 2 = 14\n",
      "7 * 3 = 21\n",
      "7 * 4 = 28\n",
      "7 * 5 = 35\n",
      "7 * 6 = 42\n",
      "7 * 7 = 49\n",
      "7 * 8 = 56\n",
      "7 * 9 = 63\n",
      "8 * 1 = 8\n",
      "8 * 2 = 16\n",
      "8 * 3 = 24\n",
      "8 * 4 = 32\n",
      "8 * 5 = 40\n",
      "8 * 6 = 48\n",
      "8 * 7 = 56\n",
      "8 * 8 = 64\n",
      "8 * 9 = 72\n",
      "9 * 1 = 9\n",
      "9 * 2 = 18\n",
      "9 * 3 = 27\n",
      "9 * 4 = 36\n",
      "9 * 5 = 45\n",
      "9 * 6 = 54\n",
      "9 * 7 = 63\n",
      "9 * 8 = 72\n",
      "9 * 9 = 81\n"
     ]
    }
   ],
   "source": [
    "for x in range(2,10) : \n",
    "    for y in range (1,10) : \n",
    "        print(x, '*', y, '=', x * y)"
   ]
  },
  {
   "cell_type": "code",
   "execution_count": null,
   "metadata": {},
   "outputs": [
    {
     "name": "stdout",
     "output_type": "stream",
     "text": [
      "0부터 9까지\n",
      "0\n",
      "1\n",
      "2\n",
      "3\n",
      "4\n",
      "5\n",
      "6\n",
      "7\n",
      "8\n",
      "9\n"
     ]
    }
   ],
   "source": [
    "print('0부터 9까지')\n",
    "i = 0\n",
    "while(i < 10) : \n",
    "    print(i)\n",
    "    i = i+1 "
   ]
  },
  {
   "cell_type": "code",
   "execution_count": 19,
   "metadata": {},
   "outputs": [
    {
     "name": "stdout",
     "output_type": "stream",
     "text": [
      "2 * 1 = 2\n",
      "2 * 2 = 4\n",
      "2 * 3 = 6\n",
      "2 * 4 = 8\n",
      "2 * 5 = 10\n",
      "2 * 6 = 12\n",
      "2 * 7 = 14\n",
      "2 * 8 = 16\n",
      "2 * 9 = 18\n",
      "3 * 1 = 3\n",
      "3 * 2 = 6\n",
      "3 * 3 = 9\n",
      "3 * 4 = 12\n",
      "3 * 5 = 15\n",
      "3 * 6 = 18\n",
      "3 * 7 = 21\n",
      "3 * 8 = 24\n",
      "3 * 9 = 27\n"
     ]
    }
   ],
   "source": [
    "x = 1\n",
    "y = 1\n",
    "while x < 9 : \n",
    "    x = x + 1\n",
    "    y = 1\n",
    "    while y < 10 : \n",
    "        print(x, '*', y, '=', x * y)\n",
    "        y = y + 1\n",
    "    if x  == 3 : \n",
    "        break\n",
    "\n"
   ]
  },
  {
   "cell_type": "code",
   "execution_count": 20,
   "metadata": {},
   "outputs": [
    {
     "name": "stdout",
     "output_type": "stream",
     "text": [
      "숫자 1 은/는 홀수 입니다.\n",
      "숫자 3 은/는 홀수 입니다.\n",
      "숫자 5 은/는 홀수 입니다.\n",
      "숫자 7 은/는 홀수 입니다.\n",
      "숫자 9 은/는 홀수 입니다.\n"
     ]
    }
   ],
   "source": [
    "for i in range(1,11) : \n",
    "    if i % 2 == 0 : \n",
    "        continue\n",
    "    print(\"숫자\", i , \"은/는 홀수 입니다.\")"
   ]
  },
  {
   "cell_type": "code",
   "execution_count": null,
   "metadata": {},
   "outputs": [],
   "source": []
  }
 ],
 "metadata": {
  "kernelspec": {
   "display_name": "Python 3",
   "language": "python",
   "name": "python3"
  },
  "language_info": {
   "codemirror_mode": {
    "name": "ipython",
    "version": 3
   },
   "file_extension": ".py",
   "mimetype": "text/x-python",
   "name": "python",
   "nbconvert_exporter": "python",
   "pygments_lexer": "ipython3",
   "version": "3.9.13"
  },
  "orig_nbformat": 4,
  "vscode": {
   "interpreter": {
    "hash": "660015b986820ec6660bde57d35c1d9ab045eb2f51e77df8aa9d930cb197261f"
   }
  }
 },
 "nbformat": 4,
 "nbformat_minor": 2
}
