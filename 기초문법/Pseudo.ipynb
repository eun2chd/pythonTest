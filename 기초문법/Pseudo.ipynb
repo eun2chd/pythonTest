{
 "cells": [
  {
   "cell_type": "code",
   "execution_count": 6,
   "metadata": {},
   "outputs": [
    {
     "name": "stdout",
     "output_type": "stream",
     "text": [
      "2 * 1 = 2\n",
      "2 * 2 = 4\n",
      "2 * 3 = 6\n",
      "2 * 4 = 8\n",
      "2 * 5 = 10\n",
      "2 * 6 = 12\n",
      "2 * 7 = 14\n",
      "2 * 8 = 16\n",
      "2 * 9 = 18\n"
     ]
    }
   ],
   "source": [
    "# 단을 입력받아 구구단을 출력하세요\n",
    "\n",
    "# LV1 자연수  N을 입력받습니다.\n",
    "# 반복문을 시작합니다\n",
    "# n*i 를 시작합니다.\n",
    "# 결과를 출력합니다.\n",
    "# 반복문을 종료합니다.\n",
    "\n",
    "\n",
    "N = int(input(' 2 ~ 9 사이 숫자 입력'))\n",
    "\n",
    "for i  in range(1, 10) : \n",
    "    mult = N * i\n",
    "    print(\"%d * %d = %d\" % (N, i ,mult))"
   ]
  },
  {
   "cell_type": "code",
   "execution_count": 5,
   "metadata": {},
   "outputs": [
    {
     "name": "stdout",
     "output_type": "stream",
     "text": [
      "3 * 1 = 3\n",
      "3 * 2 = 6\n",
      "3 * 3 = 9\n",
      "3 * 4 = 12\n",
      "3 * 5 = 15\n",
      "3 * 6 = 18\n",
      "3 * 7 = 21\n",
      "3 * 8 = 24\n",
      "3 * 9 = 27\n"
     ]
    }
   ],
   "source": [
    "fa = int(input('2~9 숫자 입력'))\n",
    "\n",
    "for i in range(1,10) :\n",
    "    mult = fa * i\n",
    "    print(\"%d * %d = %d\" % (fa,i,mult))\n",
    "\n"
   ]
  },
  {
   "cell_type": "code",
   "execution_count": 4,
   "metadata": {},
   "outputs": [
    {
     "name": "stdout",
     "output_type": "stream",
     "text": [
      "2 * 1 = 2\n",
      "2 * 2 = 4\n",
      "2 * 3 = 6\n",
      "2 * 4 = 8\n",
      "2 * 5 = 10\n",
      "2 * 6 = 12\n",
      "2 * 7 = 14\n",
      "2 * 8 = 16\n",
      "2 * 9 = 18\n",
      "3 * 1 = 3\n",
      "3 * 2 = 6\n",
      "3 * 3 = 9\n",
      "3 * 4 = 12\n",
      "3 * 5 = 15\n",
      "3 * 6 = 18\n",
      "3 * 7 = 21\n",
      "3 * 8 = 24\n",
      "3 * 9 = 27\n"
     ]
    }
   ],
   "source": [
    "# 2단부터  N 단까지 출력하세요\n",
    "\n",
    "# LV2 자연수  N을 입력받습니다.\n",
    "# 반복문1 을 시작합니다 ( 2 ~ N 까지 변수 N)\n",
    "#   반복문2 을 시작합니다. ( 1 ~ 9까지 변수 i )\n",
    "#    n * i 계산\n",
    "#  결과출력\n",
    "#  반복문2 종료\n",
    "#  반복문1 종료\n",
    "\n",
    "N = int(input(' 2 ~ 9 사이 숫자 입력'))\n",
    "\n",
    "for n  in range(2, N + 1) :\n",
    "    for i in range(1, 10) :   \n",
    "        mult = n * i\n",
    "        print(\"%d * %d = %d\" % (n, i ,mult))\n"
   ]
  },
  {
   "cell_type": "code",
   "execution_count": null,
   "metadata": {},
   "outputs": [
    {
     "name": "stdout",
     "output_type": "stream",
     "text": [
      "2 * 1 = 2\n",
      "2 * 2 = 4\n",
      "2 * 3 = 6\n",
      "2 * 4 = 8\n",
      "2 * 5 = 10\n",
      "2 * 6 = 12\n",
      "2 * 7 = 14\n",
      "2 * 8 = 16\n",
      "2 * 9 = 18\n",
      "3 * 1 = 3\n",
      "3 * 2 = 6\n",
      "3 * 3 = 9\n",
      "3 * 4 = 12\n",
      "3 * 5 = 15\n",
      "3 * 6 = 18\n",
      "3 * 7 = 21\n",
      "3 * 8 = 24\n",
      "3 * 9 = 27\n"
     ]
    }
   ],
   "source": [
    "# 2와 9사이의 값  n 을 입력받아 출력\n",
    "# 잘못된 값을 입력했을때 error 도 출력 1 , -1 , 10\n",
    "\n",
    "# LV3 자연수  N을 입력받습니다.\n",
    "# 조건문을 시작한다. 2<= n >= 9\n",
    "# 반복문1 을 시작합니다 ( 2 ~ N 까지 변수 N)\n",
    "#   반복문2 을 시작합니다. ( 1 ~ 9까지 변수 i )\n",
    "#    n * i 계산\n",
    "#  결과출력\n",
    "#  반복문2 종료\n",
    "#  반복문1 종료\n",
    "# else \n",
    "   # error 출력\n",
    "\n",
    "\n",
    "N = int(input(' 2 ~ 9 사이 숫자 입력'))\n",
    "\n",
    "if(N >= 2 and N <= 9) :\n",
    "    for n  in range(2, N + 1) :\n",
    "        for i in range(1, 10) :   \n",
    "            mult = n * i\n",
    "            print(\"%d * %d = %d\" % (n, i ,mult))\n",
    "else : \n",
    "    print('error')\n",
    "\n",
    "\n",
    "\n"
   ]
  },
  {
   "cell_type": "code",
   "execution_count": 3,
   "metadata": {},
   "outputs": [
    {
     "name": "stdout",
     "output_type": "stream",
     "text": [
      "1\n",
      "2\n",
      "짝\n",
      "4\n",
      "5\n",
      "짝\n",
      "7\n",
      "8\n",
      "짝\n",
      "10\n",
      "11\n",
      "12\n",
      "짝\n",
      "14\n",
      "15\n",
      "짝\n",
      "17\n",
      "18\n",
      "짝\n",
      "20\n",
      "21\n",
      "22\n",
      "짝\n",
      "24\n",
      "25\n",
      "짝\n",
      "27\n",
      "28\n",
      "짝\n",
      "짝\n",
      "짝\n",
      "짝\n",
      "짝짝\n"
     ]
    }
   ],
   "source": [
    "# 자연수 n 을입력\n",
    "# 반복문 시작\n",
    "# 현재 숫자 n 을 문자형으로 변환\n",
    "# 반복문으로 시작 (숫자를 문자로 변환한 문자열)\n",
    "# 조건을 시작함\n",
    "# 3,6,9 가 포함되어있는 경우 박수 카운트를 1 증가\n",
    "# 조건을 종료\n",
    "# 반복 종료\n",
    "# 조건 시작 (박수 카운트 체크)\n",
    "# if 박수 카운트가 1 이상인 경우 \n",
    "   # 박수 카운트 수 만큼 짝 을 출력한다.\n",
    "# else \n",
    "   # 박수 카운트가 0인 경우 \n",
    "   # 숫자 n 을 출력한다.\n",
    "# 조건문을 종료한다.\n",
    "# 반복문을 종료한다.\n",
    "\n",
    "\n",
    "N = int(input('자연수 N을 입력한다.'))\n",
    "\n",
    "for n in range(1, N + 1) : \n",
    "    C = str(n)\n",
    "    clap_count = 0\n",
    "    for c in C :\n",
    "       if(c == '3' or c == '6' or c == '9') :\n",
    "            clap_count += 1\n",
    "    if clap_count >= 1 : \n",
    "        print(clap_count * \"짝\")\n",
    "    else : \n",
    "        print(n)\n",
    "\n",
    "\n",
    "\n",
    "\n"
   ]
  },
  {
   "cell_type": "code",
   "execution_count": 1,
   "metadata": {},
   "outputs": [
    {
     "name": "stdout",
     "output_type": "stream",
     "text": [
      "hello\n"
     ]
    }
   ],
   "source": [
    "# 별찍기\n",
    "\n",
    "# [왼쪽 정렬]\n",
    "# 수도코드\n",
    "# 숫자 n 을 입력받기\n",
    "# 반복문 시작 1부터 n까지\n",
    "# * 2n-1 개 출력\n",
    "# 반복문 종료\n",
    "\n",
    "# [오른쪽 정렬]\n",
    "# 수도코드\n",
    "# 숫자 n 을 입력받기\n",
    "# 가장 마지막 줄의 별의 개수를 확인 (max_star = 2N-1)\n",
    "# 반복문 시작 1부터 n까지\n",
    "    # '' 공백을 총 별의 개수 max_star - 2n-1 개 만큼 출력한다.\n",
    "    # * 을 2n-1 개 출력\n",
    "# 반복문 종료\n",
    "\n",
    "# [가운데 정렬]\n",
    "# 수도코드\n",
    "# 가장 마지막 줄의 별의 개수를 확인 (max_star = 2N-1)\n",
    "# 반복문 시작\n",
    "    # '' 공백을 총 별의 개수 (max_star) - (2n-1)/2 개 만큼 출력한다.\n",
    "    # '*' 을 (2n-1) 개 만큼 출력한다.\n",
    "# 반복문 종료\n"
   ]
  },
  {
   "cell_type": "code",
   "execution_count": 3,
   "metadata": {},
   "outputs": [
    {
     "name": "stdout",
     "output_type": "stream",
     "text": [
      "[왼쪽정렬]\n",
      "*\n",
      "***\n",
      "*****\n",
      "*******\n",
      "*********\n"
     ]
    }
   ],
   "source": [
    "#  [왼쪽 정렬]\n",
    "N = input('자연수 N 입력 : ')\n",
    "N = int(N)\n",
    "\n",
    "print('[왼쪽정렬]')\n",
    "for n in range(1, N+1) : \n",
    "    star = 2*n-1\n",
    "    print(star * '*')"
   ]
  },
  {
   "cell_type": "code",
   "execution_count": 4,
   "metadata": {},
   "outputs": [
    {
     "name": "stdout",
     "output_type": "stream",
     "text": [
      "[오른쪽 정렬]\n",
      "        *\n",
      "      ***\n",
      "    *****\n",
      "  *******\n",
      "*********\n"
     ]
    }
   ],
   "source": [
    "# [오른쪽 정렬]\n",
    "N = input('자연수 N 입력 : ')\n",
    "N = int(N)\n",
    "\n",
    "print('[오른쪽 정렬]')\n",
    "max_star = 2*N-1\n",
    "for n in range(1, N+1) : \n",
    "    star = 2*n-1\n",
    "    space = max_star - star\n",
    "    print(space * ' ' + star * '*')"
   ]
  },
  {
   "cell_type": "code",
   "execution_count": 5,
   "metadata": {},
   "outputs": [
    {
     "name": "stdout",
     "output_type": "stream",
     "text": [
      "[오른쪽 정렬]\n",
      "    *\n",
      "   ***\n",
      "  *****\n",
      " *******\n",
      "*********\n"
     ]
    }
   ],
   "source": [
    "# [가운데 정렬]\n",
    "N = input('자연수 N 입력 : ')\n",
    "N = int(N)\n",
    "\n",
    "print('[오른쪽 정렬]')\n",
    "max_star = 2*N-1\n",
    "for n in range(1, N+1) : \n",
    "    star = 2*n-1\n",
    "    space = int((max_star - star)/2)\n",
    "    print(space * ' ' + star * '*')"
   ]
  },
  {
   "cell_type": "code",
   "execution_count": 11,
   "metadata": {},
   "outputs": [
    {
     "name": "stdout",
     "output_type": "stream",
     "text": [
      "승 A\n"
     ]
    }
   ],
   "source": [
    "A = list(input(\"A가 낼 패를 입력하세요 : \").split())\n",
    "B = list(input(\"B가 낼 패를 입력하세요 : \").split())\n",
    "\n",
    "A_win = 0\n",
    "B_win = 0\n",
    "\n",
    "for n in range(3) : \n",
    "    if(A[n] == '가위') : \n",
    "        if(B[n] == '바위') : \n",
    "            B_win += 1\n",
    "        elif(B[n] == '보') : \n",
    "            A_win += 1\n",
    "\n",
    "    elif(A[n] == '바위') : \n",
    "        if(B[n] == '가위') :\n",
    "          A_win += 1\n",
    "        elif(B[n] == '보') : \n",
    "          B_win += 1\n",
    "    else :\n",
    "        if(B[n] =='가위') : \n",
    "            B_win += 1\n",
    "        elif(B[n] == '바위') : \n",
    "            A_win += 1\n",
    "\n",
    "if(A_win > B_win) :\n",
    "    print('승 A')\n",
    "elif(A_win<B_win) : \n",
    "    print('승 B')\n",
    "else : \n",
    "    print('비김')"
   ]
  },
  {
   "cell_type": "code",
   "execution_count": 13,
   "metadata": {},
   "outputs": [
    {
     "name": "stdout",
     "output_type": "stream",
     "text": [
      "총 구매금액은 :  69000\n"
     ]
    }
   ],
   "source": [
    "#커피쿠폰\n",
    "\n",
    "N = input('출근 일수 입력 : ')\n",
    "N = int(N)\n",
    "\n",
    "coupon = 0\n",
    "total_amout = 0\n",
    "\n",
    "for n in range(N) : \n",
    "    if(coupon == 10) :\n",
    "        amount = 0\n",
    "        coupon = 0 \n",
    "    else : \n",
    "        amount = 1500\n",
    "        coupon += 1\n",
    "    total_amout += amount\n",
    "\n",
    "print('총 구매금액은 : ' , total_amout)\n"
   ]
  },
  {
   "cell_type": "code",
   "execution_count": null,
   "metadata": {},
   "outputs": [],
   "source": []
  }
 ],
 "metadata": {
  "kernelspec": {
   "display_name": "Python 3",
   "language": "python",
   "name": "python3"
  },
  "language_info": {
   "codemirror_mode": {
    "name": "ipython",
    "version": 3
   },
   "file_extension": ".py",
   "mimetype": "text/x-python",
   "name": "python",
   "nbconvert_exporter": "python",
   "pygments_lexer": "ipython3",
   "version": "3.9.13"
  },
  "orig_nbformat": 4,
  "vscode": {
   "interpreter": {
    "hash": "660015b986820ec6660bde57d35c1d9ab045eb2f51e77df8aa9d930cb197261f"
   }
  }
 },
 "nbformat": 4,
 "nbformat_minor": 2
}
