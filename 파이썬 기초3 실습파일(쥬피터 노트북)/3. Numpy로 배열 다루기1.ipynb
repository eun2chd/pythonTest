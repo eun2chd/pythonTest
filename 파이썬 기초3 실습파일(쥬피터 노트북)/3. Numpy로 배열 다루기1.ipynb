{
 "cells": [
  {
   "attachments": {},
   "cell_type": "markdown",
   "id": "95db1cea",
   "metadata": {},
   "source": [
    "# 파이썬 기초3 : AI 모델링과 데이터 사이언스를 위한 기초 과정\n",
    "* 본 과정은 파이썬 초심자을 위한 과정으로 AI 모델링과 데이터 사이언스를 위해 꼭 필요한 지식에 대해 배울 수 있습니다.\n",
    "* 본 과정을 모두 마칠 무렵이면 여러분은 파이썬으로 데이터를 다룰 수 있게될 겁니다.\n",
    "* 파이썬에 대한 모든 것을 다루지는 않습니다. 처음 AI 모델링과 데이터 사이언스를 시작할 때 꼭 필요한 내용을 중심으로 준비했습니다."
   ]
  },
  {
   "attachments": {},
   "cell_type": "markdown",
   "id": "06a93d90",
   "metadata": {},
   "source": [
    "## 3. Numpy로 배열 다루기1\n",
    "* 이번 시간에는 데이터 사이언스에서 많이 활용되는 배열을 다룰 수 있도록 도와주는 Numpy에 대해서 다루어 볼 예정입니다.\n",
    "* 특히 Numpy를 활용해서 배열을 생성하고 슬라이싱하고 인덱싱하는 방법에 대해 알아보겠습니다."
   ]
  },
  {
   "attachments": {},
   "cell_type": "markdown",
   "id": "563607b7",
   "metadata": {},
   "source": [
    "* Numpy 공식 Document\n",
    "    * https://numpy.org/"
   ]
  },
  {
   "attachments": {},
   "cell_type": "markdown",
   "id": "f55d9ad5",
   "metadata": {},
   "source": [
    "### Q1. Numpy는 무엇일까요?"
   ]
  },
  {
   "attachments": {},
   "cell_type": "markdown",
   "id": "c3992bcf",
   "metadata": {},
   "source": [
    "#### Chat GPT에게 물어봅시다."
   ]
  },
  {
   "attachments": {},
   "cell_type": "markdown",
   "id": "a246053a",
   "metadata": {},
   "source": [
    "> Numpy는 무엇인가요?(Query : Numpy는 무엇인가요?)\n",
    "> * NumPy는 Python에서 과학 계산을 위한 핵심 패키지입니다. NumPy는 다차원 배열 객체, 마스크된 배열 및 행렬과 같은 여러 파생 객체, 그리고 수학 연산, 논리 연산, 형태 조작, 정렬, 선택, 입출력 등 배열에 대한 빠른 연산을 수행하기 위한 다양한 루틴을 제공하는 Python 라이브러리입니다[1].\n",
    "\n",
    "NumPy는 Python 프로그래밍 언어를 위한 라이브러리로, 큰 다차원 배열과 행렬을 지원하며, 이러한 배열에 대해 고수준의 수학 함수 컬렉션을 제공합니다[2].\n",
    "\n",
    "NumPy는 배열을 다루기 위해 사용되는 Python 라이브러리로, 선형 대수, 푸리에 변환, 행렬 등의 작업에도 사용됩니다. NumPy는 2005년에 Travis Oliphant에 의해 개발되었으며, 오픈 소스 프로젝트로 무료로 사용할 수 있습니다. NumPy는 Numerical Python의 약자입니다[3].\n",
    "\n",
    "따라서, NumPy는 Python에서 과학적인 계산을 위한 핵심 패키지로, 다차원 배열과 행렬을 다루고 빠른 연산을 수행하는 데 사용되는 라이브러리입니다."
   ]
  },
  {
   "attachments": {},
   "cell_type": "markdown",
   "id": "accb8530",
   "metadata": {},
   "source": [
    "> Numpy는 어떤 기능이 있나요?(Query : Numpy의 기능 중 대표적인 세 가지만 알려주세요)\n",
    "> * ndarray.shape: 배열의 각 축(axis)의 크기를 나타내는 속성입니다. 이 속성은 배열의 차원을 파악하고 배열의 형태를 이해하는 데 도움을 줍니다[1].\n",
    "> * ndarray.ndim: 배열의 축 수(차원)를 나타내는 속성입니다. 다차원 배열을 다룰 때 몇 개의 축이 있는지 파악할 수 있습니다[1].\n",
    "> * ndarray.dtype: 배열의 요소(element)의 데이터 타입을 나타내는 속성입니다. 배열의 요소가 어떤 데이터 타입을 갖고 있는지 알 수 있습니다. 예를 들어, 정수, 부동소수점, 문자열 등의 데이터 타입을 가질 수 있습니다[1]."
   ]
  },
  {
   "attachments": {},
   "cell_type": "markdown",
   "id": "a50b5950",
   "metadata": {},
   "source": [
    "##### + 본격적인 실습 이전에  Numpy를 설치하겠습니다."
   ]
  },
  {
   "cell_type": "code",
   "execution_count": 1,
   "id": "0dab3592",
   "metadata": {},
   "outputs": [
    {
     "name": "stdout",
     "output_type": "stream",
     "text": [
      "Requirement already satisfied: numpy in c:\\users\\tdc81\\appdata\\local\\packages\\pythonsoftwarefoundation.python.3.11_qbz5n2kfra8p0\\localcache\\local-packages\\python311\\site-packages (1.24.3)\n"
     ]
    },
    {
     "name": "stderr",
     "output_type": "stream",
     "text": [
      "\n",
      "[notice] A new release of pip available: 22.3.1 -> 23.1.2\n",
      "[notice] To update, run: C:\\Users\\tdc81\\AppData\\Local\\Microsoft\\WindowsApps\\PythonSoftwareFoundation.Python.3.11_qbz5n2kfra8p0\\python.exe -m pip install --upgrade pip\n"
     ]
    }
   ],
   "source": [
    "!pip install numpy"
   ]
  },
  {
   "attachments": {},
   "cell_type": "markdown",
   "id": "cbd68b68",
   "metadata": {},
   "source": [
    "### Q2. Numpy로 배열은 어떻게 생성하나요?\n",
    "* Query : Numpy로 배열을 생성하는 방법에 대해서 알려주세요"
   ]
  },
  {
   "attachments": {},
   "cell_type": "markdown",
   "id": "92cc9b88",
   "metadata": {},
   "source": [
    "#### 1. Chat GPT가 알려준 방법을 여기에 적어주세요."
   ]
  },
  {
   "cell_type": "code",
   "execution_count": 2,
   "id": "6b603508",
   "metadata": {},
   "outputs": [
    {
     "name": "stdout",
     "output_type": "stream",
     "text": [
      "[[0. 0. 0.]\n",
      " [0. 0. 0.]]\n"
     ]
    }
   ],
   "source": [
    "# Chat GPT가 알려준 예시코드로 실습을 해봅시다.(Query : Numpy의 OOO을 활용해서 배열을 생성하는 예시코드 만들어 주세요)\n",
    "import numpy as np\n",
    "\n",
    "# 크기가 (2, 3)인 2D 배열 생성\n",
    "zeros_array = np.zeros((2, 3))\n",
    "print(zeros_array)\n"
   ]
  },
  {
   "attachments": {},
   "cell_type": "markdown",
   "id": "2bc47caa",
   "metadata": {},
   "source": [
    "#### 2. Chat GPT가 알려준 방법을 여기에 적어주세요."
   ]
  },
  {
   "cell_type": "code",
   "execution_count": 3,
   "id": "9779b4e2",
   "metadata": {},
   "outputs": [
    {
     "name": "stdout",
     "output_type": "stream",
     "text": [
      "[[1. 1.]\n",
      " [1. 1.]\n",
      " [1. 1.]]\n"
     ]
    }
   ],
   "source": [
    "# Chat GPT가 알려준 예시코드로 실습을 해봅시다.(Query : Numpy의 OOO을 활용해서 배열을 생성하는 예시코드 만들어 주세요)\n",
    "import numpy as np\n",
    "\n",
    "# 크기가 (3, 2)인 2D 배열 생성\n",
    "ones_array = np.ones((3, 2))\n",
    "print(ones_array)\n"
   ]
  },
  {
   "attachments": {},
   "cell_type": "markdown",
   "id": "6c5b173b",
   "metadata": {},
   "source": [
    "#### 3. Chat GPT가 알려준 방법을 여기에 적어주세요."
   ]
  },
  {
   "cell_type": "code",
   "execution_count": 4,
   "id": "37b85985",
   "metadata": {},
   "outputs": [
    {
     "name": "stdout",
     "output_type": "stream",
     "text": [
      "[[7 7]\n",
      " [7 7]]\n"
     ]
    }
   ],
   "source": [
    "# Chat GPT가 알려준 예시코드로 실습을 해봅시다.(Query : Numpy의 OOO을 활용해서 배열을 생성하는 예시코드 만들어 주세요)\n",
    "import numpy as np\n",
    "\n",
    "# 크기가 (2, 2)이고 값이 7인 배열 생성\n",
    "full_array = np.full((2, 2), 7)\n",
    "print(full_array)\n"
   ]
  },
  {
   "attachments": {},
   "cell_type": "markdown",
   "id": "c4afe76d",
   "metadata": {},
   "source": [
    "#### 4. Chat GPT가 알려준 방법을 여기에 적어주세요."
   ]
  },
  {
   "cell_type": "code",
   "execution_count": 5,
   "id": "271b3cce",
   "metadata": {},
   "outputs": [
    {
     "name": "stdout",
     "output_type": "stream",
     "text": [
      "[[1. 0. 0.]\n",
      " [0. 1. 0.]\n",
      " [0. 0. 1.]]\n"
     ]
    }
   ],
   "source": [
    "# Chat GPT가 알려준 예시코드로 실습을 해봅시다.(Query : Numpy의 OOO을 활용해서 배열을 생성하는 예시코드 만들어 주세요)\n",
    "import numpy as np\n",
    "\n",
    "# 크기가 (3, 3)인 단위 행렬 생성\n",
    "eye_array = np.eye(3)\n",
    "print(eye_array)\n"
   ]
  },
  {
   "attachments": {},
   "cell_type": "markdown",
   "id": "6a98669f",
   "metadata": {},
   "source": [
    "### Q3. Numpy로 다차원 배열은 어떻게 생성하나요?\n",
    "* Query : Numpy로 다차원 배열을 생성하는 방법에 대해서 알려주세요"
   ]
  },
  {
   "attachments": {},
   "cell_type": "markdown",
   "id": "6c3a0e4c",
   "metadata": {},
   "source": [
    "#### 1. Chat GPT가 알려준 방법을 여기에 적어주세요."
   ]
  },
  {
   "cell_type": "code",
   "execution_count": null,
   "id": "5e0b8867",
   "metadata": {},
   "outputs": [],
   "source": [
    "# Chat GPT가 알려준 예시코드로 실습을 해봅시다.(Query : Numpy의 OOO을 활용해서 배열을 생성하는 예시코드 만들어 주세요)\n",
    "import numpy as np\n",
    "\n",
    "# Create a 2D array\n",
    "arr = np.array([[1, 2, 3], [4, 5, 6]])\n",
    "print(arr)\n"
   ]
  },
  {
   "attachments": {},
   "cell_type": "markdown",
   "id": "5a93b921",
   "metadata": {},
   "source": [
    "#### 2. Chat GPT가 알려준 방법을 여기에 적어주세요."
   ]
  },
  {
   "cell_type": "code",
   "execution_count": 6,
   "id": "6462a606",
   "metadata": {},
   "outputs": [
    {
     "name": "stdout",
     "output_type": "stream",
     "text": [
      "[[0. 0. 0. 0.]\n",
      " [0. 0. 0. 0.]\n",
      " [0. 0. 0. 0.]]\n"
     ]
    }
   ],
   "source": [
    "# Chat GPT가 알려준 예시코드로 실습을 해봅시다.(Query : Numpy의 OOO을 활용해서 배열을 생성하는 예시코드 만들어 주세요)\n",
    "import numpy as np\n",
    "\n",
    "# Create a 2D array filled with zeros\n",
    "zeros_arr = np.zeros((3, 4))\n",
    "print(zeros_arr)\n"
   ]
  },
  {
   "attachments": {},
   "cell_type": "markdown",
   "id": "1ddccf08",
   "metadata": {},
   "source": [
    "#### 3. Chat GPT가 알려준 방법을 여기에 적어주세요."
   ]
  },
  {
   "cell_type": "code",
   "execution_count": 7,
   "id": "8ed97a9d",
   "metadata": {},
   "outputs": [
    {
     "name": "stdout",
     "output_type": "stream",
     "text": [
      "[[0. 0. 0. 0.]\n",
      " [0. 0. 0. 0.]\n",
      " [0. 0. 0. 0.]]\n"
     ]
    }
   ],
   "source": [
    "# Chat GPT가 알려준 예시코드로 실습을 해봅시다.(Query : Numpy의 OOO을 활용해서 배열을 생성하는 예시코드 만들어 주세요)\n",
    "import numpy as np\n",
    "\n",
    "# Create a 2D array filled with zeros\n",
    "zeros_arr = np.zeros((3, 4))\n",
    "print(zeros_arr)\n"
   ]
  },
  {
   "attachments": {},
   "cell_type": "markdown",
   "id": "0bee2f1b",
   "metadata": {},
   "source": [
    "#### 4. Chat GPT가 알려준 방법을 여기에 적어주세요."
   ]
  },
  {
   "cell_type": "code",
   "execution_count": 8,
   "id": "1b85a6d5",
   "metadata": {},
   "outputs": [
    {
     "name": "stdout",
     "output_type": "stream",
     "text": [
      "[[[6.23042070e-307 4.67296746e-307 1.69121096e-306 8.45595971e-307]\n",
      "  [1.89146896e-307 7.56571288e-307 3.11525958e-307 1.24610723e-306]\n",
      "  [1.37962320e-306 1.29060871e-306 2.22518251e-306 1.33511969e-306]]\n",
      "\n",
      " [[1.78022342e-306 1.05700345e-307 1.11261027e-306 1.11261502e-306]\n",
      "  [1.42410839e-306 7.56597770e-307 6.23059726e-307 1.42419530e-306]\n",
      "  [7.56599128e-307 1.78022206e-306 8.34451503e-308 2.22507386e-306]]]\n"
     ]
    }
   ],
   "source": [
    "# Chat GPT가 알려준 예시코드로 실습을 해봅시다.(Query : Numpy의 OOO을 활용해서 배열을 생성하는 예시코드 만들어 주세요)\n",
    "import numpy as np\n",
    "\n",
    "# Create a 3D array with uninitialized values\n",
    "empty_arr = np.empty((2, 3, 4))\n",
    "print(empty_arr)\n"
   ]
  },
  {
   "attachments": {},
   "cell_type": "markdown",
   "id": "aa8aedb9",
   "metadata": {},
   "source": [
    "#### 5. Chat GPT가 알려준 방법을 여기에 적어주세요."
   ]
  },
  {
   "cell_type": "code",
   "execution_count": null,
   "id": "4fce5591",
   "metadata": {},
   "outputs": [],
   "source": [
    "# Chat GPT가 알려준 예시코드로 실습을 해봅시다.(Query : Numpy의 OOO을 활용해서 배열을 생성하는 예시코드 만들어 주세요)\n"
   ]
  },
  {
   "attachments": {},
   "cell_type": "markdown",
   "id": "edfc8c01",
   "metadata": {},
   "source": [
    "### Q4. Numpy로 배열 슬라이싱은 어떻게 생성하나요?\n",
    "* Query : Numpy로 배열을 슬라이싱하는 방법에 대해서 알려주세요"
   ]
  },
  {
   "attachments": {},
   "cell_type": "markdown",
   "id": "7586fc33",
   "metadata": {},
   "source": [
    "> 배열 슬라이싱은 어떤 개념인가요?\n",
    "> * 넘파이는 파이썬에서 데이터를 다루는 데 사용되는 라이브러리로, 배열에 대한 다양한 기능을 제공합니다.\n",
    "배열 슬라이싱은 배열의 특정 부분을 선택하여 가져오는 방법입니다. 아래의 예시를 통해 슬라이싱의 개념을 \n",
    "이해해보겠습니다 배열 인덱싱(Indexing)은 배열에서 특정 요소에 접근하는 것을 의미합니다. \n",
    "슬라이싱(Slicing)은 배열에서 일부분을 잘라내어 가져오는 것을 의미합니다. 이 두 가지 개념을 \n",
    "함께 사용하여 배열을 다양한 방식으로 조작할 수 있습니다."
   ]
  },
  {
   "attachments": {},
   "cell_type": "markdown",
   "id": "200a699b",
   "metadata": {},
   "source": [
    "#### 1. 1차원 배열 슬라이싱"
   ]
  },
  {
   "cell_type": "code",
   "execution_count": 11,
   "id": "8ea38412",
   "metadata": {},
   "outputs": [
    {
     "name": "stdout",
     "output_type": "stream",
     "text": [
      "[3 4 5 6]\n"
     ]
    }
   ],
   "source": [
    "# Chat GPT가 알려준 예시코드로 실습을 해봅시다.(Query : Numpy를 활용해서 1차원 배열을 슬라이싱하는 예시코드 만들어 주세요)\n",
    "import numpy as np\n",
    "\n",
    "# 1차원 배열 생성\n",
    "arr = np.array([1, 2, 3, 4, 5, 6, 7, 8, 9, 10])\n",
    "\n",
    "# 배열 슬라이싱\n",
    "sliced_arr = arr[2:6]  # 인덱스 2부터 5까지 슬라이싱\n",
    "\n",
    "# 슬라이싱된 배열 출력\n",
    "print(sliced_arr)\n"
   ]
  },
  {
   "attachments": {},
   "cell_type": "markdown",
   "id": "220cd5ea",
   "metadata": {},
   "source": [
    "#### 2. 2차원 배열 슬라이싱"
   ]
  },
  {
   "cell_type": "code",
   "execution_count": 12,
   "id": "5f430dbe",
   "metadata": {},
   "outputs": [
    {
     "name": "stdout",
     "output_type": "stream",
     "text": [
      "[[ 6  7]\n",
      " [10 11]]\n"
     ]
    }
   ],
   "source": [
    "# Chat GPT가 알려준 예시코드로 실습을 해봅시다.(Query : Numpy를 활용해서 2차원 배열을 슬라이싱하는 예시코드 만들어 주세요)\n",
    "import numpy as np\n",
    "\n",
    "# Create a 2-dimensional array\n",
    "arr = np.array([[1, 2, 3, 4],\n",
    "                [5, 6, 7, 8],\n",
    "                [9, 10, 11, 12]])\n",
    "\n",
    "# Slice the array to get a subarray\n",
    "subarray = arr[1:3, 1:3]\n",
    "print(subarray)\n"
   ]
  },
  {
   "attachments": {},
   "cell_type": "markdown",
   "id": "ad0cf952",
   "metadata": {},
   "source": [
    "### Q5. Numpy로 배열 인덱싱은 어떻게 생성하나요?\n",
    "* Query : Numpy로 배열을 인덱싱하는 방법에 대해서 알려주세요"
   ]
  },
  {
   "attachments": {},
   "cell_type": "markdown",
   "id": "ab00f374",
   "metadata": {},
   "source": [
    "> 배열 인덱싱은 어떤 개념인가요?\n",
    "> * 기본 인덱싱: 인덱싱을 사용하여 NumPy 배열의 개별 요소 또는 요소 범위에 액세스할 수 있습니다. 예를 들어 배열 arr이 있고 인덱스 3의 요소에 액세스하려는 경우 arr[3]을 사용할 수 있습니다. 다양한 요소에 액세스하려면 슬라이싱을 사용할 수 있습니다. 예를 들어 arr[1:4]는 인덱스 1에서 3까지의 요소를 제공합니다. [[1]"
   ]
  },
  {
   "attachments": {},
   "cell_type": "markdown",
   "id": "73150b34",
   "metadata": {},
   "source": [
    "#### 1. 기본 인덱싱"
   ]
  },
  {
   "cell_type": "code",
   "execution_count": 13,
   "id": "ce1a8b1a",
   "metadata": {},
   "outputs": [
    {
     "name": "stdout",
     "output_type": "stream",
     "text": [
      "2\n",
      "[1 2]\n",
      "[2 3]\n",
      "[2 3]\n"
     ]
    }
   ],
   "source": [
    "# Chat GPT가 알려준 예시코드로 실습을 해봅시다.(Query : Numpy를 활용해서 기본 인덱싱하는 예시코드 만들어 주세요)\n",
    "import numpy as np\n",
    "\n",
    "# 1차원 배열 생성\n",
    "data = np.array([1, 2, 3])\n",
    "\n",
    "# 특정 인덱스의 값 출력\n",
    "print(data[1])  # 출력: 2\n",
    "\n",
    "# 범위 인덱싱 (슬라이싱)\n",
    "print(data[0:2])  # 출력: [1 2]\n",
    "\n",
    "# 인덱스 1부터 끝까지 출력\n",
    "print(data[1:])  # 출력: [2 3]\n",
    "\n",
    "# 음수 인덱스를 사용하여 뒤에서부터 인덱싱\n",
    "print(data[-2:])  # 출력: [2 3]\n"
   ]
  },
  {
   "attachments": {},
   "cell_type": "markdown",
   "id": "46a2f777",
   "metadata": {},
   "source": [
    "#### 2. 팬시 인덱싱"
   ]
  },
  {
   "cell_type": "code",
   "execution_count": 14,
   "id": "5fe8fb49",
   "metadata": {},
   "outputs": [
    {
     "name": "stdout",
     "output_type": "stream",
     "text": [
      "[20 40 50]\n"
     ]
    }
   ],
   "source": [
    "# Chat GPT가 알려준 예시코드로 실습을 해봅시다.(Query : Numpy를 활용해서 팬시 인덱싱하는 예시코드 만들어 주세요)\n",
    "import numpy as np\n",
    "\n",
    "# 1차원 배열 생성\n",
    "array1d = np.array([10, 20, 30, 40, 50])\n",
    "\n",
    "# Fancy indexing을 사용하여 특정 인덱스의 값들을 추출\n",
    "indices = [1, 3, 4]\n",
    "result = array1d[indices]\n",
    "\n",
    "# 결과 출력\n",
    "print(result)  # 출력: [20 40 50]\n"
   ]
  },
  {
   "attachments": {},
   "cell_type": "markdown",
   "id": "1b1f43ee",
   "metadata": {},
   "source": [
    "#### 3. 불린 인덱싱"
   ]
  },
  {
   "cell_type": "code",
   "execution_count": 15,
   "id": "8bd2f6bd",
   "metadata": {},
   "outputs": [
    {
     "name": "stdout",
     "output_type": "stream",
     "text": [
      "1\n",
      "3\n",
      "[ 1  2  3 10  5]\n",
      "[1 3 5]\n",
      "[ 2  3 10]\n"
     ]
    }
   ],
   "source": [
    "# Chat GPT가 알려준 예시코드로 실습을 해봅시다.(Query : Numpy를 활용해서 불린 인덱싱하는 예시코드 만들어 주세요)\n",
    "import numpy as np\n",
    "\n",
    "# Create a NumPy array\n",
    "arr = np.array([1, 2, 3, 4, 5])\n",
    "\n",
    "# Accessing elements using index\n",
    "print(arr[0])  # Output: 1\n",
    "print(arr[2])  # Output: 3\n",
    "\n",
    "# Modifying elements using index\n",
    "arr[3] = 10\n",
    "print(arr)  # Output: [1 2 3 10 5]\n",
    "\n",
    "# Indexing with a boolean array\n",
    "bool_arr = np.array([True, False, True, False, True])\n",
    "print(arr[bool_arr])  # Output: [1 3 5]\n",
    "\n",
    "# Indexing with a slice\n",
    "slice_arr = arr[1:4]\n",
    "print(slice_arr)  # Output: [2 3 10]\n"
   ]
  },
  {
   "attachments": {},
   "cell_type": "markdown",
   "id": "0de4ed6b",
   "metadata": {},
   "source": [
    "## Summary\n",
    "* 이번 시간에는 Numpy를 활용해서 배열을 생성하고 슬라이싱하고 인덱싱하는 방법에 대해서 다루어 봤습니다.\n",
    "* 다음 시간에는 Numpy로 배열의 형태를 확인 및 변경하고 타입을 확인하고 연산과 함수를 활용하는 방법에 대해서 다루어 보겠습니다."
   ]
  }
 ],
 "metadata": {
  "kernelspec": {
   "display_name": "Python 3 (ipykernel)",
   "language": "python",
   "name": "python3"
  },
  "language_info": {
   "codemirror_mode": {
    "name": "ipython",
    "version": 3
   },
   "file_extension": ".py",
   "mimetype": "text/x-python",
   "name": "python",
   "nbconvert_exporter": "python",
   "pygments_lexer": "ipython3",
   "version": "3.9.13"
  }
 },
 "nbformat": 4,
 "nbformat_minor": 5
}
