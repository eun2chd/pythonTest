{
 "cells": [
  {
   "attachments": {},
   "cell_type": "markdown",
   "id": "95db1cea",
   "metadata": {},
   "source": [
    "# 파이썬 기초3 : AI 모델링과 데이터 사이언스를 위한 기초 과정\n",
    "* 본 과정은 파이썬 초심자을 위한 과정으로 AI 모델링과 데이터 사이언스를 위해 꼭 필요한 지식에 대해 배울 수 있습니다.\n",
    "* 본 과정을 모두 마칠 무렵이면 여러분은 파이썬으로 데이터를 다룰 수 있게될 겁니다.\n",
    "* 파이썬에 대한 모든 것을 다루지는 않습니다. 처음 AI 모델링과 데이터 사이언스를 시작할 때 꼭 필요한 내용을 중심으로 준비했습니다."
   ]
  },
  {
   "attachments": {},
   "cell_type": "markdown",
   "id": "06a93d90",
   "metadata": {},
   "source": [
    "## 1. 라이브러리 활용하기1\n",
    "* 이번 시간에는 파이썬의 큰 장점 중 하나인 강력한 확장성을 보장하는 라이브러리에 대해서 다루어 볼 예정입니다.\n",
    "* 특히 파이썬을 설치와 동시에 내장되어있는 라이브러리를 활용하는 방법에 대해 알아보겠습니다."
   ]
  },
  {
   "attachments": {},
   "cell_type": "markdown",
   "id": "563607b7",
   "metadata": {},
   "source": [
    "* 파이썬 표준 라이브러리 공식 Document\n",
    "    * https://docs.python.org/ko/3.10/library/index.html"
   ]
  },
  {
   "attachments": {},
   "cell_type": "markdown",
   "id": "f55d9ad5",
   "metadata": {},
   "source": [
    "### Q1. 파이썬 표준 라이브러리는 무엇일까요?"
   ]
  },
  {
   "attachments": {},
   "cell_type": "markdown",
   "id": "f5b5a435",
   "metadata": {},
   "source": [
    "#### 공식 Document의 내용을 정리해봅시다."
   ]
  },
  {
   "attachments": {},
   "cell_type": "markdown",
   "id": "ead3a2b8",
   "metadata": {},
   "source": [
    "> 표준 라이브러리의 정의는?\n",
    "> * \n",
    "표준 라이브러리(Standard Library)는 프로그래밍 언어에서 기본적으로 제공되는 라이브러리 모음입니다. 이는 언어의 공식적인 배포에 포함되어 있어, 개발자들이 추가적인 설치나 구성 없이 바로 사용할 수 있습니다.\n",
    "\n",
    "파이썬의 표준 라이브러리는 파이썬 언어 자체와 함께 제공되며, 다양한 기능과 도구를 포함하고 있습니다. 이를 사용하여 파일 입출력, 네트워크 통신, 데이터 압축, 날짜 및 시간 처리, 문자열 조작, 그래픽 표현, 암호화, 정규 표현식 등 다양한 작업을 수행할 수 있습니다. 표준 라이브러리는 파이썬 개발자들에게 매우 유용한 도구이며, 개발 생산성을 높이고 코드의 재사용성을 촉진합니다.\n",
    "\n",
    "표준 라이브러리는 파이썬의 공식 문서인 \"Python Standard Library\"에서 자세한 정보와 사용 방법을 제공합니다. 이 문서는 각 모듈과 함수의 설명, 예제 코드, 사용 가이드 등을 포함하고 있어 개발자들이 효과적으로 표준 라이브러리를 활용할 수 있도록 도와줍니다.\n",
    "\n",
    "\n",
    "\n",
    "\n"
   ]
  },
  {
   "attachments": {},
   "cell_type": "markdown",
   "id": "145723ab",
   "metadata": {},
   "source": [
    "> 표준 라이브러리는 어떤 것이 있나요?(세가지만 적어봅시다.)\n",
    "> * 여기에 적어주세요.\n",
    "> * 여기에 적어주세요.\n",
    "> * 여기에 적어주세요."
   ]
  },
  {
   "attachments": {},
   "cell_type": "markdown",
   "id": "c3992bcf",
   "metadata": {},
   "source": [
    "#### Chat GPT에게 물어봅시다."
   ]
  },
  {
   "attachments": {},
   "cell_type": "markdown",
   "id": "a246053a",
   "metadata": {},
   "source": [
    "> 표준 라이브러리의 정의는?(Query : 파이썬 표준 라이브러리는 무엇을 의미하는가요?)\n",
    "> * Python 표준 라이브러리는 파이썬과 함께 제공되는 표준 라이브러리를 의미합니다. 이 표준 라이브러리는 파이썬 인터프리터와 함께 설치되며, 파이썬 코드에서 신뢰성 있게 사용할 수 있는 모듈들을 포함하고 있습니다. 표준 라이브러리에는 다양한 기능을 제공하는 모듈들이 포함되어 있으며, 이 모듈들은 파이썬 프로그래밍의 다양한 측면에서 사용될 수 있습니다.\n",
    "\n",
    "표준 라이브러리에는 파일 I/O, 네트워킹, 데이터베이스, 웹 서비스, GUI 개발, 암호화, 날짜 및 시간 처리 등 다양한 작업을 지원하는 모듈들이 포함되어 있습니다. 또한, 문자열 조작, 정규 표현식, 수학적인 연산, 데이터 구조, 압축, 디버깅 등과 같은 기능들도 표준 라이브러리에서 제공됩니다."
   ]
  },
  {
   "attachments": {},
   "cell_type": "markdown",
   "id": "accb8530",
   "metadata": {},
   "source": [
    "> 표준 라이브러리는 어떤 것이 있나요?(Query : 파이썬 표준 라이브러리 중 대표적인 세 가지만 알려주세요)\n",
    "> * os 모듈: 이 모듈은 운영 체제와 상호 작용하기 위한 함수들을 제공합니다. 파일 및 디렉토리 관리, 환경 변수 설정, 프로세스 관리 등의 작업을 수행할 수 있습니다. 이를 통해 파이썬 프로그램이 운영 체제와 상호 작용하고, 파일 시스템에 접근하고, 다양한 시스템 관련 작업을 수행할 수 있습니다.\n",
    "> * re 모듈: 이 모듈은 정규 표현식(Regular Expression)을 지원하여 문자열 패턴 매칭이나 검색과 관련된 작업을 수행할 수 있게 해줍니다. 정규 표현식은 특정 패턴을 표현하고 이를 기반으로 문자열을 처리하거나 검색하는 강력한 도구입니다. re 모듈은 이러한 작업을 간편하게 수행할 수 있는 다양한 함수와 메서드를 제공합니다.\n",
    "> * datetime 모듈: 이 모듈은 날짜와 시간을 다루기 위한 클래스들을 제공합니다. 날짜 및 시간 정보를 생성, 조작, 서식화하는 데 사용할 수 있는 다양한 함수와 메서드가 있습니다. datetime 모듈을 사용하면 날짜와 시간에 관련된 작업을 편리하게 처리할 수 있습니다.\n",
    "> * 이 외에도 파이썬 표준 라이브러리에는 수학 연산을 지원하는 math, 데이터 압축과 아카이브 처리를 위한 zipfile, 네트워크 프로그래밍을 위한 socket, 인터넷 데이터 처리를 위한 urllib, 데이터 직렬화와 역직렬화를 위한 pickle 등 다양한 모듈들이 포함되어 있습니다. 파이썬 표준 라이브러리는 파이썬 프로그래밍을 보다 효율적으로 수행할 수 있도록 다양한 기능과 도구를 제공합니다"
   ]
  },
  {
   "attachments": {},
   "cell_type": "markdown",
   "id": "90ac3afd",
   "metadata": {},
   "source": [
    "#### 어떤 차이가 있나요?"
   ]
  },
  {
   "attachments": {},
   "cell_type": "markdown",
   "id": "caa0b60b",
   "metadata": {},
   "source": [
    "> * 여기에 적어주세요.(차이가 없으면 없다고 적어주세요.)"
   ]
  },
  {
   "attachments": {},
   "cell_type": "markdown",
   "id": "cbd68b68",
   "metadata": {},
   "source": [
    "### Q2. 파이썬 표준 라이브러리는 어떻게 사용하나요?\n",
    "* 문서 확인하기 - import 하기 - 함수 또는 클래스 사용하기 - 예제 코드 참고하기"
   ]
  },
  {
   "attachments": {},
   "cell_type": "markdown",
   "id": "92cc9b88",
   "metadata": {},
   "source": [
    "#### Q2-1. 표준 라이브러리 random을 활용해서 로또번호 6개를 추출해보세요."
   ]
  },
  {
   "attachments": {},
   "cell_type": "markdown",
   "id": "5a6774dd",
   "metadata": {},
   "source": [
    "##### 1. 문서 확인하기\n",
    "* random 공식 Document를 확인해보겠습니다 : https://docs.python.org/ko/3.10/library/random.html#\n",
    "* Chat GPT에게 물어보겠습니다.(Query : 파이썬 표준 라이브러리 중 random에 대해 기재되어있는 문서를 알려주세요)"
   ]
  },
  {
   "attachments": {},
   "cell_type": "markdown",
   "id": "4e8a716e",
   "metadata": {},
   "source": [
    "##### 2. Import 하기\n",
    "* Import 전에 Import 공식 문서 확인하기 : https://docs.python.org/ko/3.10/reference/simple_stmts.html#import"
   ]
  },
  {
   "cell_type": "code",
   "execution_count": 1,
   "id": "0c1973d6",
   "metadata": {},
   "outputs": [],
   "source": [
    "# random 라이브러리를 Import 해주세요. 이때 as를 활용해서 'rnd'로 이름을 정의해주세요.\n",
    "import random"
   ]
  },
  {
   "cell_type": "code",
   "execution_count": null,
   "id": "717e1568",
   "metadata": {},
   "outputs": [],
   "source": [
    "# Chat GPT에게 random 라이브러리를 Import 하는 방법에 대해 물어보겠습니다.(Query : 파이썬에서 random 라이브러리 import 하는 방법 알려주세요)\n"
   ]
  },
  {
   "attachments": {},
   "cell_type": "markdown",
   "id": "d4f54c2d",
   "metadata": {},
   "source": [
    "##### 3. 함수 또는 클래스 사용하기\n",
    "* 공식문서에서 샘플을 뽑는 함수 찾기 : https://docs.python.org/ko/3.10/library/random.html#"
   ]
  },
  {
   "cell_type": "code",
   "execution_count": null,
   "id": "b239dc2e",
   "metadata": {},
   "outputs": [],
   "source": [
    "# 공식문서에서 샘플을 뽑는 함수를 찾아서 로또번호 6개를 추출하는 소스코드를 완성해주세요.\n"
   ]
  },
  {
   "cell_type": "code",
   "execution_count": 2,
   "id": "0c40e61b",
   "metadata": {},
   "outputs": [
    {
     "name": "stdout",
     "output_type": "stream",
     "text": [
      "로또 번호: [43, 45, 6, 15, 9, 8]\n"
     ]
    }
   ],
   "source": [
    "# Chat GPT에게 random 라이브러리를 활용해서 로또번호 6개를 뽑는 함수를 찾아서 로또번호 6개를 추출하는 소스코드에 대해 물어보겠습니다.\n",
    "# (Query : 파이썬에서 random 라이브러리를 활용해서 로또번호 6개를 뽑는 소스코드를 만들어 주세요)\n",
    "import random\n",
    "\n",
    "def generate_lottery_numbers():\n",
    "    lottery_numbers = []\n",
    "    \n",
    "    while len(lottery_numbers) < 6:\n",
    "        number = random.randint(1, 45)  # 1부터 45까지의 난수 생성\n",
    "        \n",
    "        if number not in lottery_numbers:\n",
    "            lottery_numbers.append(number)\n",
    "    \n",
    "    return lottery_numbers\n",
    "\n",
    "# 로또 번호 생성 및 출력\n",
    "numbers = generate_lottery_numbers()\n",
    "print(\"로또 번호:\", numbers)\n"
   ]
  },
  {
   "attachments": {},
   "cell_type": "markdown",
   "id": "b3bb36ba",
   "metadata": {},
   "source": [
    "##### 4. 예제 코드 참고하기\n",
    "* 점프 투 파이썬의 datetime.date 예제코드를 참고해서 2023년 2월 20일과 2023년 5월 1일 사이의 날짜 차이를 구해보세요.\n",
    "* 참고 : 점프 투 파이썬의 datetime.date 예제코드(https://wikidocs.net/33#datetimedate)"
   ]
  },
  {
   "cell_type": "code",
   "execution_count": null,
   "id": "ada9c5a3",
   "metadata": {},
   "outputs": [],
   "source": [
    "# 점프 투 파이썬의 datetime.date 예제코드를 참고해서 2023년 2월 20일과 2023년 5월 1일 사이의 날짜 차이를 구하는 소스코드를 완성해주세요.\n"
   ]
  },
  {
   "cell_type": "code",
   "execution_count": 4,
   "id": "f1268967",
   "metadata": {},
   "outputs": [
    {
     "name": "stdout",
     "output_type": "stream",
     "text": [
      "The difference in days between the two dates is: 101\n"
     ]
    }
   ],
   "source": [
    "# Chat GPT에게 datetime.date 라이브러리를 활용해서 2023년 2월 20일과 2023년 5월 1일 사이의 날짜 차이를 구하는 소스코드에 대해 물어보겠습니다.\n",
    "# (Query : 파이썬의 datetime 라이브러리를 활용해서 2023년 2월 20일과 2023년 5월 1일의 날짜 차이를 알려주는 소스코드 만들어 주세요)\n",
    "from datetime import datetime\n",
    "\n",
    "start_date = datetime(2023, 1, 20)\n",
    "end_date = datetime(2023, 5, 1)\n",
    "\n",
    "date_diff = end_date - start_date\n",
    "difference_in_days = date_diff.days\n",
    "\n",
    "print(\"The difference in days between the two dates is:\", difference_in_days)"
   ]
  },
  {
   "attachments": {},
   "cell_type": "markdown",
   "id": "0de4ed6b",
   "metadata": {},
   "source": [
    "## Summary\n",
    "* 이번 시간에는 파이썬의 큰 장점 중 하나인 강력한 확장성을 보장하는 라이브러리에 대해서 다루어 봤습니다.\n",
    "* 특히 표준 라이브러리에 대해서 알아봤구요. random과 datetime 라이브러리로 간단하게 활용하는 실습을 진행했습니다.\n",
    "* 다음 시간에는 표준 라이브러리 이외에 다른 파이썬 유저들이 만들어 놓은 외부 라이브러리에 대해서 다루어 보겠습니다."
   ]
  }
 ],
 "metadata": {
  "kernelspec": {
   "display_name": "Python 3 (ipykernel)",
   "language": "python",
   "name": "python3"
  },
  "language_info": {
   "codemirror_mode": {
    "name": "ipython",
    "version": 3
   },
   "file_extension": ".py",
   "mimetype": "text/x-python",
   "name": "python",
   "nbconvert_exporter": "python",
   "pygments_lexer": "ipython3",
   "version": "3.10.9"
  }
 },
 "nbformat": 4,
 "nbformat_minor": 5
}
