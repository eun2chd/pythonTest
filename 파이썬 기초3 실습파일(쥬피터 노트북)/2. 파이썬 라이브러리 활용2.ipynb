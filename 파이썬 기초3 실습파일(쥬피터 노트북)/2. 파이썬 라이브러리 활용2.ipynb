{
 "cells": [
  {
   "cell_type": "markdown",
   "id": "95db1cea",
   "metadata": {},
   "source": [
    "# 파이썬 기초3 : AI 모델링과 데이터 사이언스를 위한 기초 과정\n",
    "* 본 과정은 파이썬 초심자을 위한 과정으로 AI 모델링과 데이터 사이언스를 위해 꼭 필요한 지식에 대해 배울 수 있습니다.\n",
    "* 본 과정을 모두 마칠 무렵이면 여러분은 파이썬으로 데이터를 다룰 수 있게될 겁니다.\n",
    "* 파이썬에 대한 모든 것을 다루지는 않습니다. 처음 AI 모델링과 데이터 사이언스를 시작할 때 꼭 필요한 내용을 중심으로 준비했습니다."
   ]
  },
  {
   "cell_type": "markdown",
   "id": "06a93d90",
   "metadata": {},
   "source": [
    "## 2. 라이브러리 활용하기2\n",
    "* 이번 시간에는 파이썬의 큰 장점 중 하나인 강력한 확장성을 보장하는 라이브러리에 대해서 다루어 볼 예정입니다.\n",
    "* 특히 파이썬을 사용하는 다른 유저들이 미리 만들어놓은 외부 라이브러리를 활용하는 방법에 대해 알아보겠습니다."
   ]
  },
  {
   "cell_type": "markdown",
   "id": "563607b7",
   "metadata": {},
   "source": [
    "* 파이썬 외부 라이브러리 설명 공식 Document\n",
    "    * https://docs.python.org/ko/3.10/installing/index.html\n",
    "* pypi 홈페이지\n",
    "    * https://pypi.org/"
   ]
  },
  {
   "cell_type": "markdown",
   "id": "f55d9ad5",
   "metadata": {},
   "source": [
    "### Q1. 파이썬 외부 라이브러리는 무엇일까요?"
   ]
  },
  {
   "cell_type": "markdown",
   "id": "c3992bcf",
   "metadata": {},
   "source": [
    "#### Chat GPT에게 물어봅시다."
   ]
  },
  {
   "attachments": {},
   "cell_type": "markdown",
   "id": "a246053a",
   "metadata": {},
   "source": [
    "> 외부 라이브러리의 정의는?(Query : 파이썬 외부 라이브러리는 무엇을 의미하는가요?)\n",
    "> * 파이썬 외부 라이브러리(External Library)는 파이썬 표준 라이브러리 이외에 개발자들이 독립적으로 개발하고 제공하는 라이브러리를 의미합니다. 이러한 외부 라이브러리는 파이썬 표준 라이브러리에는 없는 특정 기능이나 도구를 제공하며, 다양한 개발 목적에 활용될 수 있습니다.\n",
    "\n",
    "파이썬 외부 라이브러리는 파이썬 패키지 관리자인 pip를 사용하여 설치할 수 있습니다. pip를 통해 라이브러리를 설치하면 해당 라이브러리의 모듈을 프로젝트에서 import하여 사용할 수 있습니다. 외부 라이브러리는 다양한 분야에서 사용되며, 웹 개발, 데이터 분석, 인공지능, 그래픽스, 자연어 처리 등 다양한 영역에서 개발자들에게 유용한 기능을 제공합니다.\n",
    "\n",
    "외부 라이브러리는 파이썬 개발 생태계의 다양성과 확장성을 높여주는 역할을 합니다. 개발자들은 이러한 외부 라이브러리를 활용하여 개발 시간을 단축하고, 코드의 품질과 성능을 향상시킬 수 있습니다. 또한, 오픈 소스로 제공되는 외부 라이브러리는 커뮤니티의 지원과 기여를 받아 지속적인 업데이트와 발전이 이루어집니다.\n"
   ]
  },
  {
   "attachments": {},
   "cell_type": "markdown",
   "id": "accb8530",
   "metadata": {},
   "source": [
    "> 외부 라이브러리는 어떤 것이 있나요?(Query : 파이썬 외부 라이브러리 중 대표적인 세 가지만 알려주세요)\n",
    "> * NumPy: NumPy는 수치 계산을 위한 파이썬 라이브러리로, 다차원 배열과 행렬 연산에 특화되어 있습니다. 과학적이고 수학적인 계산에 널리 사용되며, 데이터 분석, 기계 학습, 과학 연구 등 다양한 분야에서 활용됩니다.\n",
    "> * Pandas: Pandas는 데이터 조작과 분석을 위한 라이브러리로, 표 형태의 데이터를 다루는 데 특화되어 있습니다. 데이터 프레임(DataFrame)이라는 자료 구조를 제공하며, 데이터 필터링, 정렬, 그룹화, 변환 등 다양한 데이터 조작 작업을 효율적으로 수행할 수 있습니다. 데이터 처리와 전처리에 널리 사용됩니다.\n",
    "> * Matplotlib: Matplotlib은 데이터 시각화를 위한 라이브러리로, 그래프와 차트를 생성하는 데 사용됩니다. 다양한 그래프 유형을 지원하며, 선 그래프, 막대 그래프, 산점도, 히스토그램 등 다양한 시각화 요소를 제공합니다. 데이터의 시각적 표현과 분석 결과의 시각화에 널리 활용됩니다.\n",
    "\n"
   ]
  },
  {
   "cell_type": "markdown",
   "id": "cbd68b68",
   "metadata": {},
   "source": [
    "### Q2. 파이썬 외부 라이브러리는 어떻게 사용하나요?\n",
    "* 문서 확인하기 - <b>설치하기</b> -import 하기 - 함수 또는 클래스 사용하기 - 예제 코드 참고하기"
   ]
  },
  {
   "cell_type": "markdown",
   "id": "92cc9b88",
   "metadata": {},
   "source": [
    "#### Q2-1. 외부 라이브러리 scikit-learn을 활용해서 와인 데이터를 불러오세요."
   ]
  },
  {
   "cell_type": "markdown",
   "id": "5a6774dd",
   "metadata": {},
   "source": [
    "##### 1. 문서 확인하기\n",
    "* scikit-learn 공식 Document를 확인해보겠습니다 : https://pypi.org/project/scikit-learn/ https://scikit-learn.org/stable/index.html\n",
    "* Chat GPT에게 물어보겠습니다.(Query : 파이썬 외부 라이브러리 중 scikit-learn에 대해 기재되어있는 문서를 알려줘)"
   ]
  },
  {
   "cell_type": "markdown",
   "id": "35805aef",
   "metadata": {},
   "source": [
    "##### 2. 설치하기"
   ]
  },
  {
   "cell_type": "code",
   "execution_count": 8,
   "id": "d1f3fc08",
   "metadata": {},
   "outputs": [
    {
     "name": "stdout",
     "output_type": "stream",
     "text": [
      "Collecting scikit-learn\n",
      "  Downloading scikit_learn-1.2.2-cp39-cp39-win_amd64.whl (8.4 MB)\n",
      "     ---------------------------------------- 8.4/8.4 MB 12.2 MB/s eta 0:00:00\n",
      "Collecting scipy>=1.3.2\n",
      "  Downloading scipy-1.10.1-cp39-cp39-win_amd64.whl (42.5 MB)\n",
      "     ---------------------------------------- 42.5/42.5 MB 7.4 MB/s eta 0:00:00\n",
      "Collecting threadpoolctl>=2.0.0\n",
      "  Using cached threadpoolctl-3.1.0-py3-none-any.whl (14 kB)\n",
      "Collecting numpy>=1.17.3\n",
      "  Downloading numpy-1.24.3-cp39-cp39-win_amd64.whl (14.9 MB)\n",
      "     --------------------------------------- 14.9/14.9 MB 17.7 MB/s eta 0:00:00\n",
      "Collecting joblib>=1.1.1\n",
      "  Using cached joblib-1.2.0-py3-none-any.whl (297 kB)\n",
      "Installing collected packages: threadpoolctl, numpy, joblib, scipy, scikit-learn\n",
      "Successfully installed joblib-1.2.0 numpy-1.24.3 scikit-learn-1.2.2 scipy-1.10.1 threadpoolctl-3.1.0\n",
      "Note: you may need to restart the kernel to use updated packages.\n"
     ]
    },
    {
     "name": "stderr",
     "output_type": "stream",
     "text": [
      "  WARNING: The script f2py.exe is installed in 'c:\\Users\\tdc81\\AppData\\Local\\Programs\\Python\\Python39\\Scripts' which is not on PATH.\n",
      "  Consider adding this directory to PATH or, if you prefer to suppress this warning, use --no-warn-script-location.\n",
      "WARNING: You are using pip version 22.0.4; however, version 23.1.2 is available.\n",
      "You should consider upgrading via the 'c:\\Users\\tdc81\\AppData\\Local\\Programs\\Python\\Python39\\python.exe -m pip install --upgrade pip' command.\n"
     ]
    }
   ],
   "source": [
    "# scikit-learn 라이브러리를 설치해주세요.\n",
    "%pip install -U scikit-learn"
   ]
  },
  {
   "cell_type": "markdown",
   "id": "4e8a716e",
   "metadata": {},
   "source": [
    "##### 3. Import 하기"
   ]
  },
  {
   "cell_type": "code",
   "execution_count": 9,
   "id": "717e1568",
   "metadata": {},
   "outputs": [],
   "source": [
    "# Chat GPT에게 scikit-learn 라이브러리를 Import 하는 방법에 대해 물어보겠습니다.(Query : 파이썬에서 scikit-learn 라이브러리 import 하는 방법 알려주세요)\n",
    "from sklearn import datasets"
   ]
  },
  {
   "cell_type": "markdown",
   "id": "d4f54c2d",
   "metadata": {},
   "source": [
    "##### 4. 함수 또는 클래스 사용하기\n",
    "* 공식문서에서 데이터를 불러오는 함수 찾기 : https://scikit-learn.org/stable/datasets.html"
   ]
  },
  {
   "cell_type": "code",
   "execution_count": 3,
   "id": "b239dc2e",
   "metadata": {},
   "outputs": [],
   "source": [
    "# 공식문서에서 데이터를 불러오는 함수를 찾아서 와인 데이터를 불러오는 소스코드를 완성해주세요.\n"
   ]
  },
  {
   "cell_type": "code",
   "execution_count": 10,
   "id": "0c40e61b",
   "metadata": {},
   "outputs": [
    {
     "name": "stdout",
     "output_type": "stream",
     "text": [
      "Feature names: ['alcohol', 'malic_acid', 'ash', 'alcalinity_of_ash', 'magnesium', 'total_phenols', 'flavanoids', 'nonflavanoid_phenols', 'proanthocyanins', 'color_intensity', 'hue', 'od280/od315_of_diluted_wines', 'proline']\n",
      "Target names: ['class_0' 'class_1' 'class_2']\n",
      "Data shape: (178, 13)\n",
      "Sample data:\n",
      "Sample 1 :\n",
      "  Features: [1.423e+01 1.710e+00 2.430e+00 1.560e+01 1.270e+02 2.800e+00 3.060e+00\n",
      " 2.800e-01 2.290e+00 5.640e+00 1.040e+00 3.920e+00 1.065e+03]\n",
      "  Label: 0\n",
      "Sample 2 :\n",
      "  Features: [1.32e+01 1.78e+00 2.14e+00 1.12e+01 1.00e+02 2.65e+00 2.76e+00 2.60e-01\n",
      " 1.28e+00 4.38e+00 1.05e+00 3.40e+00 1.05e+03]\n",
      "  Label: 0\n",
      "Sample 3 :\n",
      "  Features: [1.316e+01 2.360e+00 2.670e+00 1.860e+01 1.010e+02 2.800e+00 3.240e+00\n",
      " 3.000e-01 2.810e+00 5.680e+00 1.030e+00 3.170e+00 1.185e+03]\n",
      "  Label: 0\n",
      "Sample 4 :\n",
      "  Features: [1.437e+01 1.950e+00 2.500e+00 1.680e+01 1.130e+02 3.850e+00 3.490e+00\n",
      " 2.400e-01 2.180e+00 7.800e+00 8.600e-01 3.450e+00 1.480e+03]\n",
      "  Label: 0\n",
      "Sample 5 :\n",
      "  Features: [1.324e+01 2.590e+00 2.870e+00 2.100e+01 1.180e+02 2.800e+00 2.690e+00\n",
      " 3.900e-01 1.820e+00 4.320e+00 1.040e+00 2.930e+00 7.350e+02]\n",
      "  Label: 0\n"
     ]
    }
   ],
   "source": [
    "# Chat GPT에게 scikit-learn 라이브러리를 활용해서 와인 데이터를 불러오는 소스코드에 대해 물어보겠습니다.\n",
    "# (Query : 파이썬에서 scikit-learn 라이브러리를 활용해서 와인 데이터를 불러오는 소스코드를 만들어 주세요)\n",
    "from sklearn.datasets import load_wine\n",
    "\n",
    "# 와인 데이터 불러오기\n",
    "wine_data = load_wine()\n",
    "\n",
    "# 데이터 확인\n",
    "print(\"Feature names:\", wine_data.feature_names)\n",
    "print(\"Target names:\", wine_data.target_names)\n",
    "print(\"Data shape:\", wine_data.data.shape)\n",
    "\n",
    "# 데이터 샘플 및 레이블 가져오기\n",
    "X = wine_data.data  # 입력 특성 데이터\n",
    "y = wine_data.target  # 클래스 레이블\n",
    "\n",
    "# 데이터 샘플 확인\n",
    "print(\"Sample data:\")\n",
    "for i in range(5):\n",
    "    print(\"Sample\", i+1, \":\")\n",
    "    print(\"  Features:\", X[i])\n",
    "    print(\"  Label:\", y[i])"
   ]
  },
  {
   "cell_type": "markdown",
   "id": "589c5581",
   "metadata": {},
   "source": [
    "##### 추가로 알아봅시다.\n",
    "* 와인데이터의 feature에 대해 자세히 물어볼게요.\n",
    "* Query : 파이썬에서 scikit-learn 와인 데이터의 feature에 대해서 자세히 알려줘"
   ]
  },
  {
   "cell_type": "markdown",
   "id": "b3bb36ba",
   "metadata": {},
   "source": [
    "##### 5. 예제 코드 참고하기\n",
    "* Chat GPT에게 scikit-learn 라이브러리를 활용해서 Decision Tree로 와인데이터를 학습시켜서 종류를 예측하는 소스코드에 대해 물어보겠습니다."
   ]
  },
  {
   "cell_type": "code",
   "execution_count": 12,
   "id": "f1268967",
   "metadata": {},
   "outputs": [
    {
     "name": "stdout",
     "output_type": "stream",
     "text": [
      "Input Shape: (178, 13)\n",
      "Label Shape: (178,)\n",
      "Accuracy: 0.9444444444444444\n"
     ]
    }
   ],
   "source": [
    "# CChat GPT에게 scikit-learn 라이브러리를 활용해서 Decision Tree로 와인데이터를 학습시켜서 종류를 예측하는 소스코드에 대해 물어보겠습니다.\n",
    "# (Query : 파이썬에서 scikit-learn 라이브러리를 활용해서 와인 데이터를 불러와서 머신러닝 학습시킬 수 있도록 변수 지정하는 소스코드를 만들어 주세요\n",
    "# (Query : 파이썬에서 scikit-learn 라이브러리를 활용해서 Decision Tree로 와인데이터를 학습시켜서 종류를 예측하는 소스코드 알려주세요)\n",
    "from sklearn.datasets import load_wine\n",
    "from sklearn.model_selection import train_test_split\n",
    "from sklearn.tree import DecisionTreeClassifier\n",
    "from sklearn.metrics import accuracy_score\n",
    "\n",
    "\n",
    "# 와인 데이터셋 불러오기\n",
    "wine = load_wine()\n",
    "\n",
    "# 입력 특성과 레이블 변수 지정\n",
    "X = wine.data  # 입력 특성\n",
    "y = wine.target  # 레이블\n",
    "\n",
    "# 입력 특성과 레이블의 차원 확인\n",
    "print(\"Input Shape:\", X.shape)  # 입력 특성의 차원 출력\n",
    "print(\"Label Shape:\", y.shape)  # 레이블의 차원 출력\n",
    "\n",
    "\n",
    "# 와인 데이터셋 불러오기\n",
    "wine = load_wine()\n",
    "\n",
    "# 입력 특성과 레이블 변수 지정\n",
    "X = wine.data  # 입력 특성\n",
    "y = wine.target  # 레이블\n",
    "\n",
    "# 데이터 분할: 학습 데이터와 테스트 데이터\n",
    "X_train, X_test, y_train, y_test = train_test_split(X, y, test_size=0.2, random_state=42)\n",
    "\n",
    "# Decision Tree 모델 초기화 및 학습\n",
    "model = DecisionTreeClassifier()\n",
    "model.fit(X_train, y_train)\n",
    "\n",
    "# 학습된 모델을 통한 예측\n",
    "y_pred = model.predict(X_test)\n",
    "\n",
    "# 예측 결과 평가\n",
    "accuracy = accuracy_score(y_test, y_pred)\n",
    "print(\"Accuracy:\", accuracy)\n"
   ]
  },
  {
   "cell_type": "markdown",
   "id": "0de4ed6b",
   "metadata": {},
   "source": [
    "## Summary\n",
    "* 이번 시간에는 파이썬의 큰 장점 중 하나인 강력한 확장성을 보장하는 라이브러리에 대해서 다루어 봤습니다.\n",
    "* 특히 외부 라이브러리에 대해서 알아봤구요. scikit-learn 라이브러리로 간단하게 활용하는 실습을 진행했습니다.\n",
    "* 다음 시간에는 데이터를 다루기 위해서 필수로 알아야하는 Numpy에 대해서 다루어 보겠습니다."
   ]
  }
 ],
 "metadata": {
  "kernelspec": {
   "display_name": "Python 3 (ipykernel)",
   "language": "python",
   "name": "python3"
  },
  "language_info": {
   "codemirror_mode": {
    "name": "ipython",
    "version": 3
   },
   "file_extension": ".py",
   "mimetype": "text/x-python",
   "name": "python",
   "nbconvert_exporter": "python",
   "pygments_lexer": "ipython3",
   "version": "3.9.13"
  }
 },
 "nbformat": 4,
 "nbformat_minor": 5
}
